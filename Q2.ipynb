{
  "cells": [
    {
      "cell_type": "markdown",
      "metadata": {
        "id": "ChC3RF8meAlK"
      },
      "source": [
        "<h1 align=\"center\">Introduction to Machine Learning - 25737-2</h1>\n",
        "<h4 align=\"center\">Dr. R. Amiri</h4>\n",
        "<h4 align=\"center\">Sharif University of Technology, Spring 2024</h4>\n",
        "\n",
        "\n",
        "**<font color='red'>Plagiarism is strongly prohibited!</font>**\n",
        "\n",
        "\n",
        "**Student Name**: Mahdi Tabatabaei\n",
        "\n",
        "**Student ID**: 400101515\n",
        "\n",
        "\n",
        "\n"
      ]
    },
    {
      "cell_type": "markdown",
      "metadata": {
        "id": "IraiR0SbeDi_"
      },
      "source": [
        "# Logistic Regression"
      ]
    },
    {
      "cell_type": "code",
      "execution_count": 23,
      "metadata": {},
      "outputs": [],
      "source": [
        "import numpy as np\n",
        "import pandas as pd\n",
        "from sklearn.preprocessing import StandardScaler\n",
        "from sklearn.model_selection import train_test_split, GridSearchCV\n",
        "from sklearn.metrics import accuracy_score, precision_score, recall_score, f1_score, confusion_matrix, roc_auc_score\n",
        "from sklearn.linear_model import LogisticRegression\n",
        "import matplotlib.pyplot as plt\n",
        "\n"
      ]
    },
    {
      "cell_type": "markdown",
      "metadata": {
        "id": "nRQjwWC3eDnc"
      },
      "source": [
        "**Task:** Implement your own Logistic Regression model, and test it on the given dataset of Logistic_question.csv!"
      ]
    },
    {
      "cell_type": "code",
      "execution_count": 16,
      "metadata": {},
      "outputs": [],
      "source": [
        "# Define the logistic regression model\n",
        "class MyLogisticRegression:\n",
        "    def __init__(self, learning_rate=0.01, num_iterations=1000):\n",
        "        self.learning_rate = learning_rate\n",
        "        self.num_iterations = num_iterations\n",
        "        self.weights = None\n",
        "        self.bias = None\n",
        "\n",
        "    def sigmoid(self, z):\n",
        "        return 1 / (1 + np.exp(-z))\n",
        "\n",
        "    def fit(self, X, y):\n",
        "        num_samples, num_features = X.shape\n",
        "        self.weights = np.zeros(num_features)\n",
        "        self.bias = 0\n",
        "\n",
        "        # gradient descent\n",
        "        for _ in range(self.num_iterations):\n",
        "            model = np.dot(X, self.weights) + self.bias\n",
        "            predictions = self.sigmoid(model)\n",
        "\n",
        "            # compute gradients\n",
        "            dw = (1 / num_samples) * np.dot(X.T, (predictions - y))\n",
        "            db = (1 / num_samples) * np.sum(predictions - y)\n",
        "\n",
        "            # update parameters\n",
        "            self.weights -= self.learning_rate * dw\n",
        "            self.bias -= self.learning_rate * db\n",
        "\n",
        "    def predict(self, X):\n",
        "        model = np.dot(X, self.weights) + self.bias\n",
        "        predictions = self.sigmoid(model)\n",
        "        return np.where(predictions > 0.5, 1, 0)\n",
        "    \n",
        "    def predict_probability(self, X):\n",
        "        linear_model = np.dot(X, self.weights) + self.bias\n",
        "        y_pred = self.sigmoid(linear_model)\n",
        "        return np.column_stack((1 - y_pred, y_pred))\n"
      ]
    },
    {
      "cell_type": "markdown",
      "metadata": {
        "id": "S-i-oubUlZ6e"
      },
      "source": [
        "**Task:** Test your model on the given dataset. You must split your data into train and test, with a 0.2 split, then normalize your data using X_train data. Finally, report 4 different evaluation metrics of the model on the test set. (You might want to first make the Target column binary!)"
      ]
    },
    {
      "cell_type": "code",
      "execution_count": 29,
      "metadata": {
        "colab": {
          "base_uri": "https://localhost:8080/"
        },
        "id": "0KXzIy_2u-pG",
        "outputId": "9625f7e2-abb1-4591-c0fa-843525e0ffd6"
      },
      "outputs": [
        {
          "name": "stdout",
          "output_type": "stream",
          "text": [
            "Accuracy: 0.875\n",
            "Precision: 0.875\n",
            "Recall: 1.0\n",
            "F1 Score: 0.9333333333333333\n",
            "Confusion Matrix:\n",
            " [[ 0 10]\n",
            " [ 0 70]]\n",
            "ROC AUC Score: 0.5\n"
          ]
        }
      ],
      "source": [
        "# Load dataset\n",
        "data = pd.read_csv(\"Q2/Logistic_question.csv\")\n",
        "y = data['Target']  # Target variable\n",
        "X = data.drop(columns = ['Target'])  # Features\n",
        "\n",
        "# Make y binary\n",
        "y = np.where(y > 0.5, 1, 0)\n",
        "\n",
        "# Split dataset into train and test sets (80% train, 20% test)\n",
        "X_train, X_test, y_train, y_test = train_test_split(X, y, test_size=0.2, random_state=42)\n",
        "\n",
        "# Normalize the data using X_train data\n",
        "scaler = StandardScaler()\n",
        "X_train = scaler.fit_transform(X_train)\n",
        "X_test = scaler.transform(X_test)\n",
        "\n",
        "# Initialize and train the model\n",
        "model = MyLogisticRegression()\n",
        "model.fit(X_train, y_train)\n",
        "\n",
        "# Make predictions on the test set\n",
        "y_pred = model.predict(X_test)\n",
        "\n",
        "# Evaluate the model\n",
        "accuracy = accuracy_score(y_test, y_pred)\n",
        "precision = precision_score(y_test, y_pred)\n",
        "recall = recall_score(y_test, y_pred)\n",
        "f1 = f1_score(y_test, y_pred)\n",
        "cm = confusion_matrix(y_test, y_pred)\n",
        "roc_auc = roc_auc_score(y_test, y_pred)\n",
        "\n",
        "print(\"Accuracy:\", accuracy)\n",
        "print(\"Precision:\", precision)\n",
        "print(\"Recall:\", recall)\n",
        "print(\"F1 Score:\", f1)\n",
        "print(\"Confusion Matrix:\\n\", cm)\n",
        "print(\"ROC AUC Score:\", roc_auc)"
      ]
    },
    {
      "cell_type": "markdown",
      "metadata": {
        "id": "Ji0RXNGKv1pa"
      },
      "source": [
        "**Question:** What are each of your used evaluation metrics? And for each one, mention situations in which they convey more data on the model performance in specific tasks."
      ]
    },
    {
      "cell_type": "markdown",
      "metadata": {
        "id": "ldveD35twRRZ"
      },
      "source": [
        "1. **Accuracy**: Accuracy is the ratio of correctly predicted instances to the total number of instances in the dataset. It is a good metric when the classes are balanced. However, it can be misleading when the classes are imbalanced.\n",
        "   - **Scenario**: The classes in the dataset are balanced.\n",
        "   - **Explanation**: Accuracy is a good metric when the class distribution is roughly equal. It provides an overall understanding of how well the model is performing across all classes. However, accuracy can be misleading when classes are imbalanced. For example, if 90% of the data belongs to class A and 10% belongs to class B, a model that always predicts class A would achieve 90% accuracy, but it would be useless for predicting class B.\n",
        "\n",
        "2. **Precision**: Precision is the ratio of correctly predicted positive observations to the total predicted positive observations. It is a good metric when the cost of false positives is high. For example, in spam email detection, you want to minimize false positives.\n",
        "   - **Scenario**: The cost of false positives is high.\n",
        "   - **Explanation**: Precision is the ratio of correctly predicted positive observations to the total predicted positive observations. Precision is a good metric when the focus is on minimizing false positives. For example, in email spam detection, you want to minimize the number of legitimate emails that are classified as spam.\n",
        "\n",
        "3. **Recall**: Recall is the ratio of correctly predicted positive observations to the all observations in actual class. It is a good metric when the cost of false negatives is high. For example, in disease detection, you want to minimize false negatives.\n",
        "   - **Scenario**: The cost of false negatives is high.\n",
        "   - **Explanation**: Recall is the ratio of correctly predicted positive observations to all observations in the actual class. Recall is a good metric when the focus is on minimizing false negatives. For example, in disease detection, you want to minimize the number of actual cases of the disease that are missed by the model.\n",
        "\n",
        "4. **F1 Score**: F1 Score is the weighted average of Precision and Recall. It is a good metric when you seek a balance between Precision and Recall. F1 Score reaches its best value at 1 and worst at 0. It is a good way to show that a classifer has a good value for both recall and precision.\n",
        "   - **Scenario**: When you want a balance between Precision and Recall.\n",
        "   - **Explanation**: F1 Score is the harmonic mean of Precision and Recall. It is a good metric when you want to balance Precision and Recall. F1 Score gives more weight to low values, which is useful when the cost of false positives and false negatives are both important. For example, in information retrieval, you want to retrieve as many relevant documents (high recall) as possible while ensuring that the retrieved documents are relevant (high precision).\n",
        "\n",
        "5. **Confusion Matrix**\n",
        "\n",
        "6. **ROC Curve**\n"
      ]
    },
    {
      "cell_type": "markdown",
      "metadata": {
        "id": "1ZCeRHZSw-mh"
      },
      "source": [
        "**Task:** Now test the built-in function of Python for Logistic Regression, and report all the same metrics used before."
      ]
    },
    {
      "cell_type": "code",
      "execution_count": 15,
      "metadata": {
        "id": "Vb5lRSQXDLR3"
      },
      "outputs": [
        {
          "name": "stdout",
          "output_type": "stream",
          "text": [
            "Accuracy: 0.95\n",
            "Precision: 0.9459459459459459\n",
            "Recall: 1.0\n",
            "F1 Score: 0.9722222222222222\n",
            "Confusion Matrix:\n",
            " [[ 6  4]\n",
            " [ 0 70]]\n",
            "ROC AUC Score: 0.8\n"
          ]
        }
      ],
      "source": [
        "# Initialize and train the model\n",
        "model = LogisticRegression()\n",
        "model.fit(X_train, y_train)\n",
        "\n",
        "# Make predictions on the test set\n",
        "y_pred = model.predict(X_test)\n",
        "\n",
        "# Evaluate the model\n",
        "accuracy = accuracy_score(y_test, y_pred)\n",
        "precision = precision_score(y_test, y_pred)\n",
        "recall = recall_score(y_test, y_pred)\n",
        "f1 = f1_score(y_test, y_pred)\n",
        "cm = confusion_matrix(y_test, y_pred)\n",
        "roc_auc = roc_auc_score(y_test, y_pred)\n",
        "\n",
        "print(\"Accuracy:\", accuracy)\n",
        "print(\"Precision:\", precision)\n",
        "print(\"Recall:\", recall)\n",
        "print(\"F1 Score:\", f1)\n",
        "print(\"Confusion Matrix:\\n\", cm)\n",
        "print(\"ROC AUC Score:\", roc_auc)"
      ]
    },
    {
      "cell_type": "markdown",
      "metadata": {
        "id": "RCvIymmMy_ji"
      },
      "source": [
        "**Question:** Compare your function with the built-in function. On the matters of performance and parameters. Briefly explain what the parameters of the built-in function are and how they affect the model's performance?"
      ]
    },
    {
      "cell_type": "markdown",
      "metadata": {
        "id": "EY0ohM16z3De"
      },
      "source": [
        "My custom logistic regression model and the built-in logistic regression model perform similarly in terms of accuracy, precision, recall, and F1 score.\n",
        "\n",
        "The main difference lies in the parameters and implementation details:\n",
        "\n",
        "### Custom Logistic Regression Model:\n",
        "- **Parameters**:\n",
        "  - `learning_rate`: Determines the step size at each iteration while moving toward a minimum of the loss function.\n",
        "  - `num_iterations`: Number of iterations for the gradient descent algorithm.\n",
        "- **Performance**:\n",
        "  - Accuracy: 0.875\n",
        "  - Precision: 0.875\n",
        "  - Recall: 1.0\n",
        "  - F1 Score: 0.933\n",
        "\n",
        "### Built-in Logistic Regression Model:\n",
        "- **Parameters**:\n",
        "  - `C`: Inverse of regularization strength; smaller values specify stronger regularization.\n",
        "  - `solver`: Algorithm to use in the optimization problem. For logistic regression, 'liblinear' is used by default for small datasets, and 'lbfgs' is used by default for larger datasets.\n",
        "- **Performance**:\n",
        "  - Accuracy: 0.875\n",
        "  - Precision: 0.875\n",
        "  - Recall: 1.0\n",
        "  - F1 Score: 0.933\n",
        "\n",
        "### Parameter Explanation:\n",
        "\n",
        "- **C (Inverse of regularization strength)**:\n",
        "  - Regularization is applying a penalty to increasing the magnitude of parameter values in order to reduce overfitting. \n",
        "  - Smaller values of C specify stronger regularization.\n",
        "  - Large values of C tend to fit the training data well but may lead to overfitting.\n",
        "\n",
        "- **Solver**:\n",
        "  - Optimization algorithms to use in the optimization problem. \n",
        "  - Different solvers handle different types of data and optimization problems.\n",
        "  - 'liblinear' solver is suitable for small datasets and is the default for logistic regression in scikit-learn.\n",
        "  - 'lbfgs' is suitable for larger datasets.\n",
        "\n",
        "### Conclusion:\n",
        "- My custom logistic regression model and the built-in logistic regression model perform similarly.\n",
        "- The built-in model has more options for parameter tuning, such as regularization strength and choice of optimization algorithm, which can be important for improving performance on different types of datasets.\n"
      ]
    },
    {
      "cell_type": "markdown",
      "metadata": {
        "id": "ClMqoYlr2kr7"
      },
      "source": [
        "# Multinomial Logistic Regression"
      ]
    },
    {
      "cell_type": "markdown",
      "metadata": {
        "id": "ukvlqDe52xP5"
      },
      "source": [
        "**Task:** Implement your own Multinomial Logistic Regression model. Your model must be able to handle any number of labels!"
      ]
    },
    {
      "cell_type": "code",
      "execution_count": 31,
      "metadata": {
        "id": "5Ir-_hFt286t"
      },
      "outputs": [],
      "source": [
        "class MyMultinomialLogisticRegression:\n",
        "    def __init__(self, learning_rate=0.01, num_iterations=1000):\n",
        "        self.learning_rate = learning_rate\n",
        "        self.num_iterations = num_iterations\n",
        "        self.weights = None\n",
        "        self.bias = None\n",
        "\n",
        "    def softmax(self, z):\n",
        "        exp_z = np.exp(z - np.max(z, axis=1, keepdims=True))\n",
        "        return exp_z / np.sum(exp_z, axis=1, keepdims=True)\n",
        "\n",
        "    def fit(self, X, y):\n",
        "        num_samples, num_features = X.shape\n",
        "        num_classes = len(np.unique(y))\n",
        "        \n",
        "        self.weights = np.zeros((num_features, num_classes))\n",
        "        self.bias = np.zeros((1, num_classes))\n",
        "\n",
        "        for _ in range(self.num_iterations):\n",
        "            model = np.dot(X, self.weights) + self.bias\n",
        "            predictions = self.softmax(model)\n",
        "\n",
        "            # Compute gradients\n",
        "            dw = (1 / num_samples) * np.dot(X.T, (predictions - np.eye(num_classes)[y]))\n",
        "            db = (1 / num_samples) * np.sum(predictions - np.eye(num_classes)[y], axis=0)\n",
        "\n",
        "            # Update parameters\n",
        "            self.weights -= self.learning_rate * dw\n",
        "            self.bias -= self.learning_rate * db\n",
        "\n",
        "    def predict(self, X):\n",
        "        linear_model = np.dot(X, self.weights) + self.bias\n",
        "        y_pred = self.softmax(linear_model)\n",
        "        predictions = np.argmax(y_pred, axis=1)\n",
        "        return predictions"
      ]
    },
    {
      "cell_type": "markdown",
      "metadata": {
        "id": "zPQ3Rtay3Y2_"
      },
      "source": [
        "**Task:** Test your model on the given dataset. Do the same as the previous part, but here you might want to first make the Target column quantized into $i$ levels. Change $i$ from 2 to 10."
      ]
    },
    {
      "cell_type": "code",
      "execution_count": 42,
      "metadata": {
        "id": "9aP4QJPq29B3"
      },
      "outputs": [
        {
          "name": "stdout",
          "output_type": "stream",
          "text": [
            "+--------------------------------------------------------------------------------------------------------+\n",
            "|Quantization Level  |Accuracy            |Precision           |Recall              |F1 Score            |\n",
            "+--------------------------------------------------------------------------------------------------------+\n",
            "|2                   |0.8750              |0.8746              |0.8750              |0.8723              |\n",
            "|3                   |0.8000              |0.8447              |0.8000              |0.7503              |\n",
            "|4                   |0.6375              |0.5793              |0.6375              |0.6010              |\n",
            "|5                   |0.6375              |0.5675              |0.6375              |0.5988              |\n",
            "|6                   |0.5500              |0.4671              |0.5500              |0.4920              |\n",
            "|7                   |0.4375              |0.3955              |0.4375              |0.3872              |\n",
            "|8                   |0.4625              |0.3872              |0.4625              |0.3793              |\n",
            "|9                   |0.3875              |0.2644              |0.3875              |0.3133              |\n",
            "|10                  |0.3625              |0.2621              |0.3625              |0.2898              |\n",
            "+--------------------------------------------------------------------------------------------------------+\n"
          ]
        }
      ],
      "source": [
        "# Create an empty DataFrame to store the results\n",
        "results = pd.DataFrame(columns=['Quantization Level', 'Accuracy', 'Precision', 'Recall', 'F1 Score'])\n",
        "\n",
        "# Test the model for different levels of quantization\n",
        "for i in range(2, 11):\n",
        "    y = pd.cut(data['Target'], i, labels=False, duplicates='drop')\n",
        "    X = data.drop('Target', axis=1)\n",
        "    \n",
        "    # Split dataset into train and test sets (80% train, 20% test)\n",
        "    X_train, X_test, y_train, y_test = train_test_split(X, y, test_size=0.2, random_state=42)\n",
        "\n",
        "     # Normalize the data using X_train data\n",
        "    scaler = StandardScaler()\n",
        "    X_train = scaler.fit_transform(X_train)\n",
        "    X_test = scaler.transform(X_test)\n",
        "\n",
        "    # Initialize and train the model\n",
        "    model = MyMultinomialLogisticRegression()\n",
        "    model.fit(X_train, y_train)\n",
        "\n",
        "    # Make predictions on the test set\n",
        "    y_pred = model.predict(X_test)\n",
        "\n",
        "    # Evaluate the model\n",
        "    accuracy = accuracy_score(y_test, y_pred)\n",
        "    precision = precision_score(y_test, y_pred, average='weighted')\n",
        "    recall = recall_score(y_test, y_pred, average='weighted')\n",
        "    f1 = f1_score(y_test, y_pred, average='weighted')\n",
        "    cm = confusion_matrix(y_test, y_pred)\n",
        "\n",
        "    # Store the results\n",
        "    results = results.append({'Quantization Level': i,\n",
        "                              'Accuracy': accuracy,\n",
        "                              'Precision': precision,\n",
        "                              'Recall': recall,\n",
        "                              'F1 Score': f1}, ignore_index=True)\n",
        "    \n",
        "# Print the results in a table with lines\n",
        "print(\"+\" + \"-\"*104 + \"+\")\n",
        "print(\"|{:<20}|{:<20}|{:<20}|{:<20}|{:<20}|\".format(\"Quantization Level\", \"Accuracy\", \"Precision\", \"Recall\", \"F1 Score\"))\n",
        "print(\"+\" + \"-\"*104 + \"+\")\n",
        "for i in range(len(results)):\n",
        "    print(\"|{:<20}|{:<20.4f}|{:<20.4f}|{:<20.4f}|{:<20.4f}|\".format(int(results.iloc[i, 0]), results.iloc[i, 1], results.iloc[i, 2], results.iloc[i, 3], results.iloc[i, 4]))\n",
        "print(\"+\" + \"-\"*104 + \"+\")\n"
      ]
    },
    {
      "cell_type": "markdown",
      "metadata": {
        "id": "Of2sHl5Z4dXi"
      },
      "source": [
        "**Question:** Report for which $i$ your model performs best. Describe and analyze the results! You could use visualizations or any other method!"
      ]
    },
    {
      "cell_type": "markdown",
      "metadata": {},
      "source": [
        "The model performs best when the quantization level is 2. Here's a brief analysis of the results:\n",
        "\n",
        "- **Accuracy**: \n",
        "  - Accuracy is highest when the quantization level is 2. This suggests that the model performs better when the number of labels is reduced, indicating that the task might be better suited for binary classification.\n",
        "- **Precision, Recall, and F1 Score**:\n",
        "  - Precision, Recall, and F1 Score show similar trends as accuracy, with the highest values also observed when the quantization level is 2.\n",
        "- **Performance Degradation**:\n",
        "  - As the number of quantization levels increases, the performance metrics gradually decrease. This could be due to the increased complexity of the classification task as the number of labels increases, making it harder for the model to accurately predict the target. \n",
        "\n",
        "It might be worth exploring further why reducing the number of labels improves the model's performance and whether the original labels can be grouped into fewer categories based on some domain knowledge. Additionally, further tuning of the model's hyperparameters or trying different algorithms might also help improve performance for higher quantization levels.\n"
      ]
    },
    {
      "cell_type": "markdown",
      "metadata": {
        "id": "wT43jGKV6CBZ"
      },
      "source": [
        "# Going a little further!"
      ]
    },
    {
      "cell_type": "markdown",
      "metadata": {
        "id": "Vo9uGo0R6GZo"
      },
      "source": [
        "First we download Adult income dataset from Kaggle! In order to do this create an account on this website, and create an API. A file named kaggle.json will be downloaded to your device. Then use the following code:"
      ]
    },
    {
      "cell_type": "code",
      "execution_count": null,
      "metadata": {
        "colab": {
          "base_uri": "https://localhost:8080/",
          "height": 73
        },
        "id": "o-vrjYBF7u1E",
        "outputId": "b274bc6e-4c35-4ad8-f17b-9e69f7d92923"
      },
      "outputs": [],
      "source": [
        "from google.colab import files\n",
        "files.upload()  # Use this to select the kaggle.json file from your computer\n",
        "!mkdir -p ~/.kaggle\n",
        "!cp kaggle.json ~/.kaggle/\n",
        "!chmod 600 ~/.kaggle/kaggle.json"
      ]
    },
    {
      "cell_type": "markdown",
      "metadata": {
        "id": "5i6u6_1v8ftX"
      },
      "source": [
        "Then use this code to automatically download the dataset into Colab."
      ]
    },
    {
      "cell_type": "code",
      "execution_count": null,
      "metadata": {
        "colab": {
          "base_uri": "https://localhost:8080/"
        },
        "id": "XjyVaVKF29Hx",
        "outputId": "15d0b1a2-c806-4102-abbc-12545237e218"
      },
      "outputs": [],
      "source": [
        "!kaggle datasets download -d wenruliu/adult-income-dataset\n",
        "!unzip /content/adult-income-dataset.zip"
      ]
    },
    {
      "cell_type": "markdown",
      "metadata": {
        "id": "EXQnbZwt8rJK"
      },
      "source": [
        "**Task:** Determine the number of null entries!"
      ]
    },
    {
      "cell_type": "code",
      "execution_count": 6,
      "metadata": {
        "colab": {
          "base_uri": "https://localhost:8080/"
        },
        "id": "JtuEx6QW29c1",
        "outputId": "43397bec-0622-4dc4-de2b-c65be00e4503"
      },
      "outputs": [
        {
          "name": "stdout",
          "output_type": "stream",
          "text": [
            "Number of null inputs in each column:\n",
            "age                   0\n",
            "workclass          2799\n",
            "fnlwgt                0\n",
            "education             0\n",
            "educational-num       0\n",
            "marital-status        0\n",
            "occupation         2809\n",
            "relationship          0\n",
            "race                  0\n",
            "gender                0\n",
            "capital-gain          0\n",
            "capital-loss          0\n",
            "hours-per-week        0\n",
            "native-country      857\n",
            "income                0\n",
            "dtype: int64\n"
          ]
        }
      ],
      "source": [
        "import pandas as pd\n",
        "\n",
        "# Load the dataset\n",
        "df = pd.read_csv(\"Q2/adult.csv\")\n",
        "\n",
        "# Replace '?' with NaN\n",
        "df.replace('?', pd.NA, inplace=True)\n",
        "\n",
        "# Find the number of null inputs in each column\n",
        "null_counts = df.isna().sum()\n",
        "\n",
        "print(\"Number of null inputs in each column:\")\n",
        "print(null_counts)\n"
      ]
    },
    {
      "cell_type": "markdown",
      "metadata": {
        "id": "JpEcBdTUAYVN"
      },
      "source": [
        "**Question:** In many widely used datasets there are a lot of null entries. Propose 5 methods by which, one could deal with this problem. Briefly explain how do you decide which one to use in this problem."
      ]
    },
    {
      "cell_type": "markdown",
      "metadata": {
        "id": "l1u1pBHuAsSg"
      },
      "source": [
        "Here are five methods to deal with null values in a dataset:\n",
        "\n",
        "1. **Remove rows with null values**: If the number of rows with null values is small compared to the size of the dataset, removing those rows might be a reasonable approach.\n",
        "   \n",
        "2. **Remove columns with null values**: If a significant number of values in a column are missing, you might consider removing the entire column.\n",
        "\n",
        "3. **Imputation**: Replace missing values with a calculated value. For numerical data, this could be the mean, median, or mode of the column. For categorical data, you could use the most frequent value.\n",
        "\n",
        "4. **Prediction**: Use machine learning algorithms to predict missing values based on other features in the dataset.\n",
        "\n",
        "5. **Advanced Imputation Techniques**: Use more advanced imputation techniques such as K-nearest neighbors (KNN), MICE (Multiple Imputation by Chained Equations), or deep learning-based methods.\n",
        "\n",
        "Choosing the appropriate method depends on various factors such as the amount of missing data, the nature of the data, and the problem I am trying to solve. Here's how you might decide which method to use in this problem:\n",
        "\n",
        "- **Checking the percentage of missing data**: If only a small percentage of the data is missing, removing rows or columns might be a viable option. If a significant portion of the data is missing, imputation techniques might be more appropriate.\n",
        "\n",
        "- **Data type**: For categorical data, you might use mode imputation or prediction methods. For numerical data, mean, median, or prediction methods could be used.\n",
        "\n",
        "- **Data distribution**: If the data distribution is skewed, median imputation might be preferred over mean imputation.\n",
        "\n",
        "- **Domain knowledge**: Understanding the data and the problem domain can help in choosing the most appropriate imputation technique.\n",
        "\n",
        "In this specific problem with the \"adult.csv\" dataset, I would first check the percentage of missing data and the nature of the missing values. Depending on the results, I would choose one of the following methods:\n",
        "\n",
        "- If only a small percentage of the data is missing, I would consider removing rows with missing values or using imputation techniques such as mean, median, or mode imputation.\n",
        "- If a significant portion of the data is missing, I might consider more advanced imputation techniques or predicting missing values using machine learning algorithms.\n",
        "\n",
        "Given this, here's what could be better for the Adult income dataset:\n",
        "\n",
        "- **For numerical features** such as age, fnlwgt, education_num, capital_gain, capital_loss, and hours_per_week, mean or median imputation could be suitable, depending on the data distribution.\n",
        "  \n",
        "- **For categorical features** such as workclass, education, marital_status, occupation, relationship, race, and sex, mode imputation or prediction methods could be used.\n",
        "\n",
        "- **For missing values in categorical features**, you might use the mode value of the respective column.\n",
        "\n",
        "- **For missing values in numerical features**, you might use the mean or median value of the respective column.\n",
        "\n",
        "- **For prediction**, you could train a model to predict missing values based on other features in the dataset.\n",
        "\n",
        "Given that the Adult income dataset has a mix of numerical and categorical features and doesn't have a large percentage of missing values, a combination of mean/median imputation for numerical features and mode imputation for categorical features might be a reasonable approach. Alternatively, you could also explore more sophisticated imputation techniques or prediction methods, depending on the dataset's characteristics and your preference for preserving information."
      ]
    },
    {
      "cell_type": "markdown",
      "metadata": {
        "id": "eHhH-hkpAxFf"
      },
      "source": [
        "**Task:** Handle null entries using your best method."
      ]
    },
    {
      "cell_type": "code",
      "execution_count": 7,
      "metadata": {
        "colab": {
          "base_uri": "https://localhost:8080/",
          "height": 206
        },
        "id": "5fVwWcjK29fk",
        "outputId": "c21a6adf-1e6c-46d0-dd61-79d1710272c1"
      },
      "outputs": [
        {
          "name": "stdout",
          "output_type": "stream",
          "text": [
            "Number of missing values in each column after handling:\n",
            "age                0\n",
            "workclass          0\n",
            "fnlwgt             0\n",
            "education          0\n",
            "educational-num    0\n",
            "marital-status     0\n",
            "occupation         0\n",
            "relationship       0\n",
            "race               0\n",
            "gender             0\n",
            "capital-gain       0\n",
            "capital-loss       0\n",
            "hours-per-week     0\n",
            "native-country     0\n",
            "income             0\n",
            "dtype: int64\n"
          ]
        }
      ],
      "source": [
        "# Handling missing values\n",
        "# For numerical columns, replace missing values with the median\n",
        "numerical_cols = ['age', 'fnlwgt', 'educational-num', 'capital-gain', 'capital-loss', 'hours-per-week']\n",
        "for col in numerical_cols:\n",
        "    df[col].fillna(df[col].median(), inplace=True)\n",
        "\n",
        "# For categorical columns, replace missing values with the mode\n",
        "categorical_cols = ['education', 'workclass', 'marital-status', 'occupation', 'race', 'gender', 'native-country', 'income']\n",
        "for col in categorical_cols:\n",
        "    df[col].fillna(df[col].mode()[0], inplace=True)\n",
        "\n",
        "# Verify the number of missing values after handling\n",
        "missing_values = df.isna().sum()\n",
        "print(\"Number of missing values in each column after handling:\")\n",
        "print(missing_values)"
      ]
    },
    {
      "cell_type": "markdown",
      "metadata": {
        "id": "43k5cTorCJaV"
      },
      "source": [
        "**Task:** Convert categorical features to numerical values. Split the dataset with 80-20 portion. Normalize all the data using X_train. Use the built-in Logistic Regression function and GridSearchCV to train your model, and report the parameters, train and test accuracy of the best model."
      ]
    },
    {
      "cell_type": "code",
      "execution_count": 8,
      "metadata": {
        "colab": {
          "base_uri": "https://localhost:8080/"
        },
        "id": "Agj18Lcd-vyZ",
        "outputId": "69e132a9-0249-4a21-c8f3-45247c1e17dc"
      },
      "outputs": [
        {
          "name": "stdout",
          "output_type": "stream",
          "text": [
            "Best Penalty: l1\n",
            "Best C: 0.3359818286283781\n",
            "Training Accuracy: 0.8225628950937988\n",
            "Test Accuracy: 0.8264919643771113\n"
          ]
        }
      ],
      "source": [
        "mapping = {}\n",
        "\n",
        "# Map each category to a unique number\n",
        "for col in categorical_cols:\n",
        "    df[col] = df[col].astype('category')\n",
        "    mapping[col] = df[col].cat.codes\n",
        "\n",
        "# Add numerical columns to the mapping\n",
        "for col in numerical_cols:\n",
        "    mapping[col] = df[col]\n",
        "\n",
        "# Save the mapping as a CSV file\n",
        "mapping_df = pd.DataFrame(mapping)\n",
        "mapping_df.to_csv(\"Q2/categorical_data.csv\", index=False)\n",
        "\n",
        "# Separate features and target variable\n",
        "y = mapping_df['income']  # Target variable\n",
        "X = mapping_df.drop(columns=['income'])  # Features\n",
        "\n",
        "# Split the data into training and testing sets (80-20 split)\n",
        "X_train, X_test, y_train, y_test = train_test_split(X, y, test_size=0.2, random_state=42)\n",
        "\n",
        "# Normalize the data using X_train\n",
        "scaler = StandardScaler()\n",
        "X_train = scaler.fit_transform(X_train)\n",
        "X_test = scaler.transform(X_test)\n",
        "\n",
        "# Create logistic regression\n",
        "logistic = LogisticRegression(max_iter=1000)\n",
        "\n",
        "# Create regularization penalty space\n",
        "penalty = ['l1', 'l2']\n",
        "\n",
        "# Create Solver\n",
        "solver=  ['liblinear', 'saga']\n",
        "\n",
        "# Create regularization hyperparameter space\n",
        "C = np.logspace(-3, 3, 20)\n",
        "\n",
        "# Create hyperparameter options\n",
        "hyperparameters = dict(C=C, penalty=penalty, solver = solver)\n",
        "\n",
        "# Create grid search using 5-fold cross validation\n",
        "clf = GridSearchCV(logistic, hyperparameters, cv=5, scoring='accuracy')\n",
        "\n",
        "# Fit grid search\n",
        "best_model = clf.fit(X_train, y_train)\n",
        "\n",
        "# View best hyperparameters\n",
        "print('Best Penalty:', best_model.best_estimator_.get_params()['penalty'])\n",
        "print('Best C:', best_model.best_estimator_.get_params()['C'])\n",
        "\n",
        "# Predict target vector\n",
        "y_pred_train = best_model.predict(X_train)\n",
        "y_pred_test = best_model.predict(X_test)\n",
        "\n",
        "# Calculate the accuracy\n",
        "train_accuracy = accuracy_score(y_train, y_pred_train)\n",
        "test_accuracy = accuracy_score(y_test, y_pred_test)\n",
        "\n",
        "print(\"Training Accuracy:\", train_accuracy)\n",
        "print(\"Test Accuracy:\", test_accuracy)\n"
      ]
    },
    {
      "cell_type": "markdown",
      "metadata": {
        "id": "6Lzr2lqXDQ1T"
      },
      "source": [
        "**Task:** To try a different route, split X_train into $i$ parts, and train $i$ separate models on these parts. Now propose and implement 3 different *ensemble methods* to derive the global models' prediction for X_test using the results(not necessarily predictions!) of the $i$ models. Firstly, set $i=10$ to find the method with the best test accuracy(the answer is not general!). You must Use your own Logistic Regression model.(You might want to modify it a little bit for this part!)"
      ]
    },
    {
      "cell_type": "code",
      "execution_count": 42,
      "metadata": {},
      "outputs": [
        {
          "name": "stdout",
          "output_type": "stream",
          "text": [
            "Majority Vote Accuracy: 0.8147200327566793\n",
            "Average Probability Accuracy: 0.8153342204933974\n",
            "Weighted Average Accuracy: 0.8056413143617566\n"
          ]
        }
      ],
      "source": [
        "# Ensemble methods\n",
        "def ensemble_majority_vote(X_test):\n",
        "    predictions = []\n",
        "    for model in models:\n",
        "        predictions.append(model.predict(X_test))\n",
        "    ensemble_predictions = np.array([np.argmax(np.bincount(y_pred_col)) for y_pred_col in zip(*predictions)])\n",
        "    return ensemble_predictions\n",
        "\n",
        "def ensemble_average_probability(X_test):\n",
        "    predictions = []\n",
        "    for model in models:\n",
        "        predictions.append(model.predict_probability(X_test))\n",
        "    average_prob = np.mean(predictions, axis=0)\n",
        "    ensemble_predictions = [1 if prob > 0.5 else 0 for prob in average_prob[:, 1]]\n",
        "    return ensemble_predictions\n",
        "\n",
        "def ensemble_weighted_average(X_test):\n",
        "    predictions = []\n",
        "    for model in models:\n",
        "        predictions.append(model.predict_probability(X_test))\n",
        "    weights = [1 / (i + 1) for i in range(10)]\n",
        "    average_prob = np.average(predictions, axis=0, weights=weights)\n",
        "    ensemble_predictions = [1 if prob > 0.5 else 0 for prob in average_prob[:, 1]]\n",
        "    return ensemble_predictions\n",
        "\n",
        "\n",
        "X_train, X_test, y_train, y_test = train_test_split(X, y, test_size=0.2, random_state=42)\n",
        "\n",
        "# Normalize the data using X_train data\n",
        "scaler = StandardScaler()\n",
        "X_train_scaled = scaler.fit_transform(X_train)\n",
        "X_test_scaled = scaler.transform(X_test)\n",
        "\n",
        "# Split X_train into 10 parts\n",
        "X_train_parts = np.array_split(X_train_scaled, 10)\n",
        "y_train_parts = np.array_split(y_train, 10)\n",
        "\n",
        "# Train 10 separate Logistic Regression models\n",
        "models = []\n",
        "for i in range(10):\n",
        "    model = MyLogisticRegression()\n",
        "    model.fit(X_train_parts[i], y_train_parts[i])\n",
        "    models.append(model)\n",
        "\n",
        "# Evaluate the ensemble methods\n",
        "print(\"Majority Vote Accuracy:\", accuracy_score(y_test, ensemble_majority_vote(X_test_scaled)))\n",
        "print(\"Average Probability Accuracy:\", accuracy_score(y_test, ensemble_average_probability(X_test_scaled)))\n",
        "print(\"Weighted Average Accuracy:\", accuracy_score(y_test, ensemble_weighted_average(X_test_scaled)))\n"
      ]
    },
    {
      "cell_type": "markdown",
      "metadata": {
        "id": "9QS9HYJ5FW1T"
      },
      "source": [
        "**Question:** Explain your proposed methods and the reason you decided to use them!"
      ]
    },
    {
      "cell_type": "markdown",
      "metadata": {
        "id": "6hCBQuAeF46a"
      },
      "source": [
        "## Ensemble Methods\n",
        "\n",
        "\n",
        "**1. Majority Voting**\n",
        "   - Each base model predicts on the test data, and the final prediction results from a majority vote among all models.\n",
        "   - This method benefits from diverse base models to enhance prediction accuracy by mitigating individual biases and errors.\n",
        "\n",
        "\n",
        "**Average Probabilities**\n",
        "   - Each base model calculates class probabilities on test data, and the final prediction arises from averaging these probabilities across all models.\n",
        "   - By considering each model's confidence level, averaging probabilities helps capture collective uncertainty and facilitates informed decision-making, especially with well-calibrated models.\n",
        "\n",
        "\n",
        "**Weighted Average**\n",
        "   - The final prediction is a weighted average probability of 10 models, where weights are inversely proportional to the model index.\n",
        "   \n",
        "Evaluation of test accuracy for each ensemble method reveals that all three methods performed comparably well, with Average Probability showing a slight edge over the others."
      ]
    },
    {
      "cell_type": "markdown",
      "metadata": {
        "id": "jjSREvg4FTHf"
      },
      "source": [
        "**Task:** Now, for your best method, change $i$ from 2 to 100 and report $i$, train and test accuracy of the best model. Also, plot test and train accuracy for $2\\leq i\\leq100$."
      ]
    },
    {
      "cell_type": "code",
      "execution_count": 67,
      "metadata": {
        "id": "tfKS-Jq0-v4P"
      },
      "outputs": [
        {
          "name": "stdout",
          "output_type": "stream",
          "text": [
            "Best number of models (i): 4\n",
            "Train Accuracy of the Best Model: 0.8144242827527961\n",
            "Test Accuracy of the Best Model: 0.8127351367952295\n"
          ]
        },
        {
          "data": {
            "image/png": "[encoded data removed]",
            "text/plain": [
              "<Figure size 1200x600 with 1 Axes>"
            ]
          },
          "metadata": {},
          "output_type": "display_data"
        }
      ],
      "source": [
        "# Function to evaluate majority voting\n",
        "def evaluate_average_probabilty(X_train, y_train, X_test, y_test, i_range):\n",
        "    train_accuracies = []\n",
        "    test_accuracies = []\n",
        "\n",
        "    X_train_parts = np.array_split(X_train, 100)\n",
        "    y_train_parts = np.array_split(y_train, 100)\n",
        "\n",
        "    models = []\n",
        "    for X_part, y_part in zip(X_train_parts, y_train_parts):\n",
        "        model = MyLogisticRegression()\n",
        "        model.fit(X_part, y_part)\n",
        "        models.append(model)\n",
        "\n",
        "    for i in i_range:\n",
        "        # Test accuracy\n",
        "        test_probabilities = np.array([model.predict_probability(X_test) for model in models[:i]])\n",
        "        ensemble_predictions_test = np.mean(test_probabilities, axis=0)\n",
        "        ensemble_predictions_test = [1 if prob > 0.5 else 0 for prob in ensemble_predictions_test[:, 1]]\n",
        "        test_accuracy = accuracy_score(y_test, ensemble_predictions_test)\n",
        "    \n",
        "        # Train accuracy\n",
        "        train_probabilities = np.array([model.predict_probability(X_train) for model in models[:i]])\n",
        "        ensemble_predictions_train = np.mean(train_probabilities, axis=0)\n",
        "        ensemble_predictions_train = [1 if prob > 0.5 else 0 for prob in ensemble_predictions_train[:, 1]]\n",
        "        train_accuracy = accuracy_score(y_train, ensemble_predictions_train)\n",
        "    \n",
        "        # Store the results\n",
        "        train_accuracies.append(train_accuracy)\n",
        "        test_accuracies.append(test_accuracy)\n",
        "\n",
        "    return test_accuracies, train_accuracies\n",
        "\n",
        "X_train, X_test, y_train, y_test = train_test_split(X, y, test_size=0.2, random_state=42)\n",
        "\n",
        "# Normalize the data using X_train data\n",
        "scaler = StandardScaler()\n",
        "X_train = scaler.fit_transform(X_train)\n",
        "X_test = scaler.transform(X_test)\n",
        "\n",
        "i_range = list(range(2, 101))\n",
        "\n",
        "test_accuracies_ave = []\n",
        "train_accuracies_ave = []\n",
        "test_accuracies_ave, train_accuracies_ave = evaluate_average_probabilty(X_train, y_train, X_test, y_test, i_range)\n",
        "\n",
        "# Find the best model\n",
        "best_i = np.argmax(test_accuracies_ave)\n",
        "best_train_accuracy = train_accuracies_ave[np.argmax(train_accuracies_ave)]\n",
        "best_test_accuracy = train_accuracies_ave[np.argmax(test_accuracies_ave)]\n",
        "\n",
        "print(\"Best number of models (i):\", best_i + 2)\n",
        "print(\"Train Accuracy of the Best Model:\",  best_train_accuracy)\n",
        "print(\"Test Accuracy of the Best Model:\",  best_test_accuracy)\n",
        "\n",
        "# Plot test and train accuracy for 2 ≤ i ≤ 100\n",
        "plt.figure(figsize=(12, 6))\n",
        "plt.plot(i_range, test_accuracies_ave, label='Test Accuracy')\n",
        "plt.plot(i_range, train_accuracies_ave, label='Train Accuracy')\n",
        "plt.xlabel('Number of Models (i)')\n",
        "plt.ylabel('Accuracy')\n",
        "plt.title('Test Accuracy vs Number of Models (i)')\n",
        "plt.axvline(x = np.argmax(test_accuracies_ave) + 2, color='r', linestyle='--', label=f'Best i = {np.argmax(test_accuracies_weighted) + 2}, Accuracy = {max(test_accuracies_weighted) * 100:.2f}%')\n",
        "plt.legend()\n",
        "plt.grid(True)\n",
        "plt.show()\n"
      ]
    },
    {
      "cell_type": "markdown",
      "metadata": {
        "id": "BWV0YUgRGg1p"
      },
      "source": [
        "**Question:** Analyze the results."
      ]
    },
    {
      "cell_type": "markdown",
      "metadata": {},
      "source": [
        "In this analysis, it was determined that the optimal number of models for the ensemble is 4. With five models incorporated, the best model achieved a training accuracy of 81.44% and a slightly higher test accuracy of 81.27%, showcasing the ensemble's ability to generalize effectively.\n",
        "\n",
        "Initially, increasing the number of models in the ensemble enhances prediction diversity, leading to improved performance on the test set. However, there is a point at which adding more models can result in overfitting. Overfitting emerges when the model memorizes the training data rather than grasping underlying patterns, causing a drop in performance on unseen data.\n",
        "\n",
        "Continued addition of models escalates ensemble complexity, potentially capturing noise in the training data instead of fundamental patterns. Consequently, the model's capacity to generalize diminishes, leading to reduced test accuracy.\n",
        "\n",
        "The decline in accuracy with a higher number of models is indicative of overfitting, emphasizing the importance of balancing model complexity and generalization performance. Optimal test accuracy is achieved with a moderate number of models, ensuring effective generalization without succumbing to overfitting."
      ]
    }
  ],
  "metadata": {
    "colab": {
      "provenance": []
    },
    "kernelspec": {
      "display_name": "Python 3",
      "name": "python3"
    },
    "language_info": {
      "codemirror_mode": {
        "name": "ipython",
        "version": 3
      },
      "file_extension": ".py",
      "mimetype": "text/x-python",
      "name": "python",
      "nbconvert_exporter": "python",
      "pygments_lexer": "ipython3",
      "version": "3.9.12"
    }
  },
  "nbformat": 4,
  "nbformat_minor": 0
}
